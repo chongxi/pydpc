{
 "cells": [
  {
   "cell_type": "markdown",
   "metadata": {},
   "source": [
    "# Typed Memoryview Benchmark"
   ]
  },
  {
   "cell_type": "markdown",
   "metadata": {},
   "source": [
    "This contains the implementations of the benchmarks described at http://jakevdp.github.com/blog/2012/08/08/memoryview-benchmarks.\n",
    "\n",
    "Here we'll use ipython's cython magic to compile and run the benchmarks."
   ]
  },
  {
   "cell_type": "code",
   "execution_count": 11,
   "metadata": {
    "collapsed": true
   },
   "outputs": [],
   "source": [
    "from distutils import msvc9compiler\n",
    "msvc9compiler?"
   ]
  },
  {
   "cell_type": "code",
   "execution_count": 1,
   "metadata": {
    "collapsed": false
   },
   "outputs": [],
   "source": [
    "%load_ext Cython\n",
    "\n",
    "# Define our test array\n",
    "import numpy as np\n",
    "X = np.random.random((500, 3))"
   ]
  },
  {
   "cell_type": "markdown",
   "metadata": {},
   "source": [
    "## Python-only Version"
   ]
  },
  {
   "cell_type": "code",
   "execution_count": 2,
   "metadata": {
    "collapsed": false
   },
   "outputs": [],
   "source": [
    "import numpy as np\n",
    "\n",
    "def euclidean_distance(x1, x2):\n",
    "    x1 = np.asarray(x1)\n",
    "    x2 = np.asarray(x2)\n",
    "    return np.sqrt(np.sum((x1 - x2) ** 2))\n",
    "\n",
    "def pairwise_v1(X, metric=euclidean_distance):\n",
    "    X = np.asarray(X)\n",
    "    \n",
    "    n_samples, n_dim = X.shape\n",
    "\n",
    "    D = np.empty((n_samples, n_samples))\n",
    "\n",
    "    for i in range(n_samples):\n",
    "        for j in range(n_samples):\n",
    " \t    D[i, j] = metric(X[i], X[j])\n",
    "\n",
    "    return D"
   ]
  },
  {
   "cell_type": "code",
   "execution_count": 9,
   "metadata": {
    "collapsed": false
   },
   "outputs": [
    {
     "name": "stdout",
     "output_type": "stream",
     "text": [
      "1 loop, best of 3: 1.4 s per loop\n"
     ]
    }
   ],
   "source": [
    "%timeit pairwise_v1(X)"
   ]
  },
  {
   "cell_type": "markdown",
   "metadata": {},
   "source": [
    "## Cython + numpy"
   ]
  },
  {
   "cell_type": "code",
   "execution_count": 2,
   "metadata": {
    "collapsed": false
   },
   "outputs": [],
   "source": [
    "%%cython\n",
    "\n",
    "import numpy as np\n",
    "\n",
    "cimport numpy as np\n",
    "from libc.math cimport sqrt\n",
    "cimport cython\n",
    "\n",
    "# define a function pointer to a metric\n",
    "ctypedef double (*metric_ptr)(np.ndarray, np.ndarray)\n",
    "\n",
    "@cython.boundscheck(False)\n",
    "@cython.wraparound(False)\n",
    "cdef double euclidean_distance(np.ndarray[double, ndim=1, mode='c'] x1,\n",
    "                               np.ndarray[double, ndim=1, mode='c'] x2):\n",
    "    cdef double tmp, d\n",
    "    cdef np.intp_t i, N\n",
    "\n",
    "    d = 0\n",
    "    N = x1.shape[0]\n",
    "    # assume x2 has the same shape as x1.  This could be dangerous!\n",
    "\n",
    "    for i in range(N):\n",
    "        tmp = x1[i] - x2[i]\n",
    "        d += tmp * tmp\n",
    "\n",
    "    return sqrt(d)\n",
    "\n",
    "\n",
    "@cython.boundscheck(False)\n",
    "@cython.wraparound(False)\n",
    "def pairwise_v2(np.ndarray[double, ndim=2, mode='c'] X not None,\n",
    "                metric = 'euclidean'):\n",
    "    cdef metric_ptr dist_func\n",
    "    if metric == 'euclidean':\n",
    "        dist_func = &euclidean_distance\n",
    "    else:\n",
    "        raise ValueError(\"unrecognized metric\")\n",
    "\n",
    "    cdef np.intp_t i, j, n_samples\n",
    "    n_samples = X.shape[0]\n",
    "\n",
    "    cdef np.ndarray[double, ndim=2, mode='c'] D = np.empty((n_samples,\n",
    "                                                            n_samples))\n",
    "    for i in range(n_samples):\n",
    "        for j in range(n_samples):\n",
    "            D[i, j] = dist_func(X[i], X[j])\n",
    "\n",
    "    return D"
   ]
  },
  {
   "cell_type": "code",
   "execution_count": 3,
   "metadata": {
    "collapsed": false
   },
   "outputs": [
    {
     "name": "stdout",
     "output_type": "stream",
     "text": [
      "1 loop, best of 3: 348 ms per loop\n"
     ]
    }
   ],
   "source": [
    "%timeit pairwise_v2(X)"
   ]
  },
  {
   "cell_type": "markdown",
   "metadata": {},
   "source": [
    "## Cython + memviews (with slicing)"
   ]
  },
  {
   "cell_type": "code",
   "execution_count": 4,
   "metadata": {
    "collapsed": false
   },
   "outputs": [],
   "source": [
    "%%cython\n",
    "import numpy as np\n",
    "\n",
    "cimport numpy as np\n",
    "from libc.math cimport sqrt\n",
    "cimport cython\n",
    "\n",
    "# define a function pointer to a metric\n",
    "ctypedef double (*metric_ptr)(double[::1], double[::1])\n",
    "\n",
    "@cython.boundscheck(False)\n",
    "@cython.wraparound(False)\n",
    "cdef double euclidean_distance(double[::1] x1,\n",
    "                               double[::1] x2):\n",
    "    cdef double tmp, d\n",
    "    cdef np.intp_t i, N\n",
    "\n",
    "    d = 0\n",
    "    N = x1.shape[0]\n",
    "    # assume x2 has the same shape as x1.  This could be dangerous!\n",
    "\n",
    "    for i in range(N):\n",
    "        tmp = x1[i] - x2[i]\n",
    "        d += tmp * tmp\n",
    "\n",
    "    return sqrt(d)\n",
    "\n",
    "\n",
    "@cython.boundscheck(False)\n",
    "@cython.wraparound(False)\n",
    "def pairwise_v3(double[:, ::1] X not None,\n",
    "                metric = 'euclidean'):\n",
    "    cdef metric_ptr dist_func\n",
    "    if metric == 'euclidean':\n",
    "        dist_func = &euclidean_distance\n",
    "    else:\n",
    "        raise ValueError(\"unrecognized metric\")\n",
    "\n",
    "    cdef np.intp_t i, j, n_samples\n",
    "    n_samples = X.shape[0]\n",
    "\n",
    "    cdef double[:, ::1] D = np.empty((n_samples, n_samples))\n",
    "\n",
    "    for i in range(n_samples):\n",
    "        for j in range(n_samples):\n",
    "            D[i, j] = dist_func(X[i], X[j])\n",
    "\n",
    "    return D"
   ]
  },
  {
   "cell_type": "code",
   "execution_count": 5,
   "metadata": {
    "collapsed": false
   },
   "outputs": [
    {
     "name": "stdout",
     "output_type": "stream",
     "text": [
      "10 loops, best of 3: 35 ms per loop\n"
     ]
    }
   ],
   "source": [
    "%timeit pairwise_v3(X)"
   ]
  },
  {
   "cell_type": "markdown",
   "metadata": {},
   "source": [
    "## Cython + raw pointers"
   ]
  },
  {
   "cell_type": "code",
   "execution_count": 50,
   "metadata": {
    "collapsed": false
   },
   "outputs": [
    {
     "name": "stderr",
     "output_type": "stream",
     "text": [
      "\n",
      "Error compiling Cython file:\n",
      "------------------------------------------------------------\n",
      "...\n",
      "    cdef double* Xptr = &X[0, 0]\n",
      "\n",
      "    with nogil, parallel(num_threads=4):\n",
      "        for i in prange(n_samples, schedule='dynamic'):\n",
      "            for j in range(n_samples):\n",
      "                Dptr[i * n_samples + j] = dist_func(Xptr + i * n_dim,\n",
      "                                                  ^\n",
      "------------------------------------------------------------\n",
      "\n",
      "C:\\Users\\labadmin\\.babun\\cygwin\\home\\labadmin\\.ipython\\cython\\_cython_magic_999bdc4faf2d75ff94c36911fa67a303.pyx:51:51: Calling gil-requiring function not allowed without gil\n"
     ]
    }
   ],
   "source": [
    "%%cython --compile-args=-fopenmp --link-args=-fopenmp\n",
    "from cython.parallel import prange, parallel\n",
    "\n",
    "import numpy as np\n",
    "\n",
    "cimport numpy as np\n",
    "from libc.math cimport sqrt\n",
    "cimport cython\n",
    "\n",
    "# define a function pointer to a metric\n",
    "ctypedef double (*metric_ptr)(double*, double*, int)\n",
    "\n",
    "@cython.boundscheck(False)\n",
    "@cython.wraparound(False)\n",
    "cdef double euclidean_distance(double* x1,\n",
    "                               double* x2,\n",
    "                               int N):\n",
    "    cdef double tmp, d\n",
    "    cdef np.intp_t i\n",
    "\n",
    "    d = 0\n",
    "    with nogil, parallel(num_threads=4):\n",
    "        for i in prange(N, schedule='dynamic'):\n",
    "            tmp = x1[i] - x2[i]\n",
    "            d += tmp * tmp\n",
    "\n",
    "    return sqrt(d)\n",
    "\n",
    "\n",
    "@cython.boundscheck(False)\n",
    "@cython.wraparound(False)\n",
    "def pairwise_v4(double[:, ::1] X not None,\n",
    "                metric = 'euclidean'):\n",
    "    cdef metric_ptr dist_func\n",
    "    if metric == 'euclidean':\n",
    "        dist_func = &euclidean_distance\n",
    "    else:\n",
    "        raise ValueError(\"unrecognized metric\")\n",
    "\n",
    "    cdef np.intp_t i, j, n_samples, n_dim\n",
    "    n_samples = X.shape[0]\n",
    "    n_dim = X.shape[1]\n",
    "\n",
    "    cdef double[:, ::1] D = np.empty((n_samples, n_samples))\n",
    "\n",
    "    cdef double* Dptr = &D[0, 0]\n",
    "    cdef double* Xptr = &X[0, 0]\n",
    "\n",
    "    with nogil, parallel(num_threads=4):\n",
    "        for i in prange(n_samples, schedule='dynamic'):\n",
    "            for j in range(n_samples):\n",
    "                Dptr[i * n_samples + j] = dist_func(Xptr + i * n_dim,\n",
    "                                                    Xptr + j * n_dim,\n",
    "                                                    n_dim)\n",
    "    return D"
   ]
  },
  {
   "cell_type": "code",
   "execution_count": 51,
   "metadata": {
    "collapsed": false
   },
   "outputs": [
    {
     "name": "stdout",
     "output_type": "stream",
     "text": [
      "100 loops, best of 3: 3.06 ms per loop\n"
     ]
    }
   ],
   "source": [
    "%timeit pairwise_v4(X)"
   ]
  },
  {
   "cell_type": "markdown",
   "metadata": {},
   "source": [
    "## Cython + memviews (no slicing)"
   ]
  },
  {
   "cell_type": "code",
   "execution_count": 52,
   "metadata": {
    "collapsed": false
   },
   "outputs": [],
   "source": [
    "%%cython\n",
    "\n",
    "import numpy as np\n",
    "\n",
    "cimport numpy as np\n",
    "from libc.math cimport sqrt\n",
    "cimport cython\n",
    "\n",
    "# define a function pointer to a metric\n",
    "ctypedef double (*metric_ptr)(double[:, ::1], np.intp_t, np.intp_t)\n",
    "\n",
    "@cython.boundscheck(False)\n",
    "@cython.wraparound(False)\n",
    "cdef double euclidean_distance(double[:, ::1] X,\n",
    "                               np.intp_t i1, np.intp_t i2):\n",
    "    cdef double tmp, d\n",
    "    cdef np.intp_t j\n",
    "\n",
    "    d = 0\n",
    "\n",
    "    for j in range(X.shape[1]):\n",
    "        tmp = X[i1, j] - X[i2, j]\n",
    "        d += tmp * tmp\n",
    "\n",
    "    return sqrt(d)\n",
    "\n",
    "\n",
    "@cython.boundscheck(False)\n",
    "@cython.wraparound(False)\n",
    "def pairwise_v5(double[:, ::1] X not None,\n",
    "                metric = 'euclidean'):\n",
    "    cdef metric_ptr dist_func\n",
    "    if metric == 'euclidean':\n",
    "        dist_func = &euclidean_distance\n",
    "    else:\n",
    "        raise ValueError(\"unrecognized metric\")\n",
    "\n",
    "    cdef np.intp_t i, j, n_samples, n_dim\n",
    "    n_samples = X.shape[0]\n",
    "    n_dim = X.shape[1]\n",
    "\n",
    "    cdef double[:, ::1] D = np.empty((n_samples, n_samples))\n",
    "\n",
    "    for i in range(n_samples):\n",
    "        for j in range(n_samples):\n",
    "            D[i, j] = dist_func(X, i, j)\n",
    "\n",
    "    return D"
   ]
  },
  {
   "cell_type": "code",
   "execution_count": 54,
   "metadata": {
    "collapsed": false
   },
   "outputs": [
    {
     "name": "stdout",
     "output_type": "stream",
     "text": [
      "100 loops, best of 3: 4.65 ms per loop\n"
     ]
    }
   ],
   "source": [
    "%timeit D=pairwise_v5(X)"
   ]
  },
  {
   "cell_type": "markdown",
   "metadata": {},
   "source": [
    "## Other Similar Routines"
   ]
  },
  {
   "cell_type": "markdown",
   "metadata": {},
   "source": [
    "Here we'll compare the benchmark to two similar routines from `scipy` and `scikit-learn`"
   ]
  },
  {
   "cell_type": "code",
   "execution_count": 35,
   "metadata": {
    "collapsed": false
   },
   "outputs": [
    {
     "name": "stdout",
     "output_type": "stream",
     "text": [
      "100 loops, best of 3: 3.09 ms per loop\n"
     ]
    }
   ],
   "source": [
    "from scipy.spatial.distance import cdist\n",
    "%timeit cdist(X, X)"
   ]
  },
  {
   "cell_type": "code",
   "execution_count": 49,
   "metadata": {
    "collapsed": false
   },
   "outputs": [
    {
     "name": "stdout",
     "output_type": "stream",
     "text": [
      "100 loops, best of 3: 3.24 ms per loop\n"
     ]
    }
   ],
   "source": [
    "from sklearn.metrics.pairwise import pairwise_distances\n",
    "%timeit pairwise_distances(X, metric='l2')"
   ]
  },
  {
   "cell_type": "code",
   "execution_count": 44,
   "metadata": {
    "collapsed": false
   },
   "outputs": [
    {
     "data": {
      "text/plain": [
       "{'cityblock': <function sklearn.metrics.pairwise.manhattan_distances>,\n",
       " 'cosine': <function sklearn.metrics.pairwise.cosine_distances>,\n",
       " 'euclidean': <function sklearn.metrics.pairwise.euclidean_distances>,\n",
       " 'l1': <function sklearn.metrics.pairwise.manhattan_distances>,\n",
       " 'l2': <function sklearn.metrics.pairwise.euclidean_distances>,\n",
       " 'manhattan': <function sklearn.metrics.pairwise.manhattan_distances>,\n",
       " 'precomputed': None}"
      ]
     },
     "execution_count": 44,
     "metadata": {},
     "output_type": "execute_result"
    }
   ],
   "source": [
    "from sklearn.metrics import pairwise\n",
    "pairwise.PAIRWISE_DISTANCE_FUNCTIONS"
   ]
  },
  {
   "cell_type": "code",
   "execution_count": null,
   "metadata": {
    "collapsed": true
   },
   "outputs": [],
   "source": []
  },
  {
   "cell_type": "code",
   "execution_count": null,
   "metadata": {
    "collapsed": true
   },
   "outputs": [],
   "source": []
  },
  {
   "cell_type": "code",
   "execution_count": null,
   "metadata": {
    "collapsed": true
   },
   "outputs": [],
   "source": []
  },
  {
   "cell_type": "markdown",
   "metadata": {},
   "source": [
    "## NumBa"
   ]
  },
  {
   "cell_type": "code",
   "execution_count": 58,
   "metadata": {
    "collapsed": true
   },
   "outputs": [],
   "source": [
    "def pairwise_numpy(X):\n",
    "    return np.sqrt(((X[:, None, :] - X) ** 2).sum(-1))"
   ]
  },
  {
   "cell_type": "code",
   "execution_count": 59,
   "metadata": {
    "collapsed": false
   },
   "outputs": [
    {
     "name": "stdout",
     "output_type": "stream",
     "text": [
      "100 loops, best of 3: 16 ms per loop\n"
     ]
    }
   ],
   "source": [
    "%timeit pairwise_numpy(X)"
   ]
  },
  {
   "cell_type": "code",
   "execution_count": 69,
   "metadata": {
    "collapsed": false
   },
   "outputs": [
    {
     "name": "stdout",
     "output_type": "stream",
     "text": [
      "1 loop, best of 3: 756 ms per loop\n"
     ]
    }
   ],
   "source": [
    "def pairwise_python(X):\n",
    "    M = X.shape[0]\n",
    "    N = X.shape[1]\n",
    "    D = np.empty((M, M), dtype=np.float)\n",
    "    for i in range(M):\n",
    "        for j in range(M):\n",
    "            d = 0.0\n",
    "            for k in range(N):\n",
    "                tmp = X[i, k] - X[j, k]\n",
    "                d += tmp * tmp\n",
    "            D[i, j] = np.sqrt(d)\n",
    "    return D\n",
    "%timeit pairwise_python(X)"
   ]
  },
  {
   "cell_type": "code",
   "execution_count": 70,
   "metadata": {
    "collapsed": false
   },
   "outputs": [
    {
     "name": "stdout",
     "output_type": "stream",
     "text": [
      "The slowest run took 71.77 times longer than the fastest. This could mean that an intermediate result is being cached.\n",
      "1 loop, best of 3: 3.53 ms per loop\n"
     ]
    }
   ],
   "source": [
    "from numba import double\n",
    "from numba.decorators import jit, autojit\n",
    "\n",
    "pairwise_numba = autojit(pairwise_python)\n",
    "\n",
    "%timeit pairwise_numba(X)"
   ]
  },
  {
   "cell_type": "code",
   "execution_count": null,
   "metadata": {
    "collapsed": true
   },
   "outputs": [],
   "source": []
  }
 ],
 "metadata": {
  "kernelspec": {
   "display_name": "Python 2",
   "language": "python",
   "name": "python2"
  },
  "language_info": {
   "codemirror_mode": {
    "name": "ipython",
    "version": 2
   },
   "file_extension": ".py",
   "mimetype": "text/x-python",
   "name": "python",
   "nbconvert_exporter": "python",
   "pygments_lexer": "ipython2",
   "version": "2.7.11"
  }
 },
 "nbformat": 4,
 "nbformat_minor": 0
}
