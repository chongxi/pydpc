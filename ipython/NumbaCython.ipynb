{
 "cells": [
  {
   "cell_type": "markdown",
   "metadata": {},
   "source": [
    "# Numba vs. Cython: Take 2"
   ]
  },
  {
   "cell_type": "markdown",
   "metadata": {},
   "source": [
    "*This notebook first appeared as a*\n",
    "[*post*](http://jakevdp.github.io/blog/2012/08/24/numba-vs-cython/)\n",
    "*by Jake Vanderplas on the blog*\n",
    "[*Pythonic Perambulations*](http://jakevdp.github.io)"
   ]
  },
  {
   "cell_type": "markdown",
   "metadata": {},
   "source": [
    "<!-- PELICAN_BEGIN_SUMMARY -->\n",
    "Last summer I wrote a [post](http://jakevdp.github.io/blog/2012/08/24/numba-vs-cython/)\n",
    "comparing the performance of [Numba](http://numba.pydata.org/) and [Cython](http://cython.org/)\n",
    "for optimizing array-based computation.  Since posting, the page has received thousands of hits,\n",
    "and resulted in a number of interesting discussions.\n",
    "But in the meantime, the Numba package has come a long way both in its interface and its\n",
    "performance.\n",
    "\n",
    "Here I want to revisit those timing comparisons with a more recent Numba release, using the newer\n",
    "and more convenient ``autojit`` syntax, and also add in a few additional benchmarks for\n",
    "completeness.  I've also written this post entirely within an IPython notebook, so it can be\n",
    "easily downloaded and modified.\n",
    "\n",
    "As before, I'll use a **pairwise distance** function.  This will take an array representing\n",
    "``M`` points in ``N`` dimensions, and return the ``M x M`` matrix of pairwise distances.\n",
    "This is a nice test function for a few reasons.  First of all, it's a very clean and\n",
    "well-defined test.  Second of all, it illustrates the kind of array-based operation that\n",
    "is common in statistics, datamining, and machine learning.  Third, it is a function that\n",
    "results in large memory consumption if the standard numpy broadcasting approach is used\n",
    "(it requires a temporary array containing ``M * M * N``  elements), making it a good\n",
    "candidate for an alternate approach.\n",
    "\n",
    "<!-- PELICAN_END_SUMMARY -->\n",
    "\n",
    "We'll start by defining the array which we'll use for the benchmarks: one thousand points in\n",
    "three dimensions."
   ]
  },
  {
   "cell_type": "code",
   "execution_count": 3,
   "metadata": {
    "collapsed": false
   },
   "outputs": [
    {
     "name": "stdout",
     "output_type": "stream",
     "text": [
      "Populating the interactive namespace from numpy and matplotlib\n"
     ]
    }
   ],
   "source": [
    "%pylab inline\n",
    "X = np.random.random((1000, 3))"
   ]
  },
  {
   "cell_type": "markdown",
   "metadata": {},
   "source": [
    "## Numpy Function With Broadcasting"
   ]
  },
  {
   "cell_type": "markdown",
   "metadata": {},
   "source": [
    "We'll start with a typical numpy broadcasting approach to this problem.  Numpy\n",
    "broadcasting is an abstraction that allows loops over array indices to be\n",
    "executed in compiled C.  For many applications, this is extremely fast and efficient.\n",
    "Unfortunately, there is a problem with broadcasting approaches that comes up here:\n",
    "it ends up allocating hidden temporary arrays which can eat up memory and cause\n",
    "computational overhead.  Nevertheless, it's a good comparison to have.  The function\n",
    "looks like this:"
   ]
  },
  {
   "cell_type": "code",
   "execution_count": null,
   "metadata": {
    "collapsed": false
   },
   "outputs": [],
   "source": [
    "def pairwise_numpy(X):\n",
    "    return np.sqrt(((X[:, None, :] - X) ** 2).sum(-1))\n",
    "%timeit pairwise_numpy(X)"
   ]
  },
  {
   "cell_type": "markdown",
   "metadata": {},
   "source": [
    "## Pure Python Function"
   ]
  },
  {
   "cell_type": "markdown",
   "metadata": {},
   "source": [
    "A loop-based solution avoids the overhead associated with temporary arrays,\n",
    "and can be written like this:"
   ]
  },
  {
   "cell_type": "code",
   "execution_count": null,
   "metadata": {
    "collapsed": false
   },
   "outputs": [],
   "source": [
    "def pairwise_python(X):\n",
    "    M = X.shape[0]\n",
    "    N = X.shape[1]\n",
    "    D = np.empty((M, M), dtype=np.float)\n",
    "    for i in range(M):\n",
    "        for j in range(M):\n",
    "            d = 0.0\n",
    "            for k in range(N):\n",
    "                tmp = X[i, k] - X[j, k]\n",
    "                d += tmp * tmp\n",
    "            D[i, j] = np.sqrt(d)\n",
    "    return D\n",
    "%timeit pairwise_python(X)"
   ]
  },
  {
   "cell_type": "markdown",
   "metadata": {},
   "source": [
    "As we see, it is over 100 times slower than the numpy broadcasting approach!\n",
    "This is due to Python's dynamic type checking, which can drastically slow down\n",
    "nested loops.  With these two solutions, we're left with a tradeoff between\n",
    "efficiency of computation and efficiency of memory usage.  This is where tools\n",
    "like Numba and Cython become vital\n",
    "\n",
    "I should note that there exist alternative Python interpreters which improve\n",
    "on the computational inefficiency of the Python run-time, one of which is\n",
    "the popular [PyPy](http://pypy.org/) project.\n",
    "PyPy is extremely interesting.  However,\n",
    "it's currently all but useless for scientific applications,\n",
    "because it does not support NumPy, and by extension cannot run\n",
    "code based on SciPy, scikit-learn, matplotlib, or virtually any other\n",
    "package that makes Python a useful tool for scientific computing.\n",
    "For that reason, I won't consider PyPy here."
   ]
  },
  {
   "cell_type": "markdown",
   "metadata": {},
   "source": [
    "## Numba Wrapper"
   ]
  },
  {
   "cell_type": "markdown",
   "metadata": {},
   "source": [
    "[Numba](http://numba.pydata.org/) is an LLVM compiler for python code, which\n",
    "allows code written in Python to be converted to highly efficient compiled code\n",
    "in real-time.  Due to its dependencies, compiling it can be a challenge.  To experiment\n",
    "with Numba, I recommend using a local installation of [Anaconda](https://store.continuum.io/),\n",
    "the free cross-platform Python distribution which includes Numba and all its prerequisites\n",
    "within a single easy-to-install package.\n",
    "\n",
    "Numba is extremely simple to use.  We just wrap our python function with ``autojit`` (JIT stands\n",
    "for \"just in time\" compilation) to automatically create an efficient, compiled version of the function:"
   ]
  },
  {
   "cell_type": "code",
   "execution_count": 20,
   "metadata": {
    "collapsed": false
   },
   "outputs": [
    {
     "ename": "NameError",
     "evalue": "name 'pairwise_python' is not defined",
     "output_type": "error",
     "traceback": [
      "\u001b[1;31m---------------------------------------------------------------------------\u001b[0m",
      "\u001b[1;31mNameError\u001b[0m                                 Traceback (most recent call last)",
      "\u001b[1;32m<ipython-input-20-368341b05018>\u001b[0m in \u001b[0;36m<module>\u001b[1;34m()\u001b[0m\n\u001b[0;32m      2\u001b[0m \u001b[1;32mfrom\u001b[0m \u001b[0mnumba\u001b[0m\u001b[1;33m.\u001b[0m\u001b[0mdecorators\u001b[0m \u001b[1;32mimport\u001b[0m \u001b[0mjit\u001b[0m\u001b[1;33m,\u001b[0m \u001b[0mautojit\u001b[0m\u001b[1;33m\u001b[0m\u001b[0m\n\u001b[0;32m      3\u001b[0m \u001b[1;33m\u001b[0m\u001b[0m\n\u001b[1;32m----> 4\u001b[1;33m \u001b[0mpairwise_numba\u001b[0m \u001b[1;33m=\u001b[0m \u001b[0mautojit\u001b[0m\u001b[1;33m(\u001b[0m\u001b[0mpairwise_python\u001b[0m\u001b[1;33m)\u001b[0m\u001b[1;33m\u001b[0m\u001b[0m\n\u001b[0m\u001b[0;32m      5\u001b[0m \u001b[0mX\u001b[0m \u001b[1;33m=\u001b[0m \u001b[0mnp\u001b[0m\u001b[1;33m.\u001b[0m\u001b[0mrandom\u001b[0m\u001b[1;33m.\u001b[0m\u001b[0mrandn\u001b[0m\u001b[1;33m(\u001b[0m\u001b[1;36m50000\u001b[0m\u001b[1;33m,\u001b[0m \u001b[1;36m3\u001b[0m\u001b[1;33m)\u001b[0m\u001b[1;33m.\u001b[0m\u001b[0mastype\u001b[0m\u001b[1;33m(\u001b[0m\u001b[1;34m'float32'\u001b[0m\u001b[1;33m)\u001b[0m\u001b[1;33m\u001b[0m\u001b[0m\n\u001b[0;32m      6\u001b[0m \u001b[0mget_ipython\u001b[0m\u001b[1;33m(\u001b[0m\u001b[1;33m)\u001b[0m\u001b[1;33m.\u001b[0m\u001b[0mmagic\u001b[0m\u001b[1;33m(\u001b[0m\u001b[1;34mu'timeit pairwise_numba(X)'\u001b[0m\u001b[1;33m)\u001b[0m\u001b[1;33m\u001b[0m\u001b[0m\n",
      "\u001b[1;31mNameError\u001b[0m: name 'pairwise_python' is not defined"
     ]
    }
   ],
   "source": [
    "from numba import double\n",
    "from numba.decorators import jit, autojit\n",
    "\n",
    "pairwise_numba = autojit(pairwise_python)\n",
    "X = np.random.randn(50000, 3).astype('float32')\n",
    "%timeit pairwise_numba(X)"
   ]
  },
  {
   "cell_type": "code",
   "execution_count": 28,
   "metadata": {
    "collapsed": false
   },
   "outputs": [],
   "source": [
    "from numbapro import autojit\n",
    "\n",
    "@autojit(target=\"cpu\")\n",
    "def pairwise_numbapro(X):\n",
    "    M = X.shape[0]\n",
    "    N = X.shape[1]\n",
    "    D = np.empty((M, M), dtype=np.float32)\n",
    "    for i in range(M):\n",
    "        for j in range(M):\n",
    "            d = 0.0\n",
    "            for k in range(N):\n",
    "                tmp = X[i, k] - X[j, k]\n",
    "                d += tmp * tmp\n",
    "            D[i, j] = np.sqrt(d)\n",
    "    return D"
   ]
  },
  {
   "cell_type": "code",
   "execution_count": 37,
   "metadata": {
    "collapsed": false
   },
   "outputs": [
    {
     "name": "stdout",
     "output_type": "stream",
     "text": [
      "Wall time: 21.7 s\n"
     ]
    }
   ],
   "source": [
    "X = np.random.randn(50000, 3).astype('float32')\n",
    "%time D = pairwise_numbapro(X)"
   ]
  },
  {
   "cell_type": "code",
   "execution_count": 38,
   "metadata": {
    "collapsed": false
   },
   "outputs": [
    {
     "name": "stdout",
     "output_type": "stream",
     "text": [
      "Variable            Type             Data/Info\n",
      "----------------------------------------------\n",
      "D                   ndarray          50000Lx50000L: 2500000000 elems, type `float32`, 10000000000 bytes (9536 Mb)\n",
      "X                   ndarray          50000Lx3L: 150000 elems, type `float32`, 600000 bytes (585 kb)\n",
      "autojit             function         <function autojit at 0x0000000007023B38>\n",
      "jit                 function         <function jit at 0x0000000007023BA8>\n",
      "pairwise_dis        function         <function pairwise_dis at 0x0000000008501B38>\n",
      "pairwise_numbapro   CPUDispatcher    CPUDispatcher(<function p<...>o at 0x00000000086DFCF8>)\n"
     ]
    }
   ],
   "source": [
    "whos"
   ]
  },
  {
   "cell_type": "markdown",
   "metadata": {},
   "source": [
    "Adding this simple expression speeds up our execution by over a factor of over 1400!\n",
    "For those keeping track, this is about 50% faster than the version of Numba that\n",
    "I tested last August on the same machine."
   ]
  },
  {
   "cell_type": "markdown",
   "metadata": {},
   "source": [
    "## Optimized Cython Function"
   ]
  },
  {
   "cell_type": "markdown",
   "metadata": {},
   "source": [
    "[Cython](http://cython.org) is another package which is built to convert Python-like statemets\n",
    "into compiled code. The language is actually a superset of Python which acts as a sort of\n",
    "hybrid between Python and C.  By adding type annotations to Python code and running\n",
    "it through the Cython interpreter, we obtain fast compiled code.  Here is a\n",
    "highly-optimized Cython version of the pairwise distance function, which we compile\n",
    "using IPython's Cython magic:"
   ]
  },
  {
   "cell_type": "code",
   "execution_count": null,
   "metadata": {
    "collapsed": false
   },
   "outputs": [],
   "source": [
    "%load_ext Cython"
   ]
  },
  {
   "cell_type": "code",
   "execution_count": null,
   "metadata": {
    "collapsed": false
   },
   "outputs": [],
   "source": [
    "%%cython\n",
    "\n",
    "import numpy as np\n",
    "cimport cython\n",
    "from libc.math cimport sqrt\n",
    "\n",
    "@cython.boundscheck(False)\n",
    "@cython.wraparound(False)\n",
    "def pairwise_cython(double[:, ::1] X):\n",
    "    cdef int M = X.shape[0]\n",
    "    cdef int N = X.shape[1]\n",
    "    cdef double tmp, d\n",
    "    cdef double[:, ::1] D = np.empty((M, M), dtype=np.float64)\n",
    "    for i in range(M):\n",
    "        for j in range(M):\n",
    "            d = 0.0\n",
    "            for k in range(N):\n",
    "                tmp = X[i, k] - X[j, k]\n",
    "                d += tmp * tmp\n",
    "            D[i, j] = sqrt(d)\n",
    "    return np.asarray(D)"
   ]
  },
  {
   "cell_type": "code",
   "execution_count": null,
   "metadata": {
    "collapsed": false
   },
   "outputs": [],
   "source": [
    "X = np.random.randn(10000, 3).astype('float64')\n",
    "%timeit pairwise_cython(X)"
   ]
  },
  {
   "cell_type": "markdown",
   "metadata": {},
   "source": [
    "The Cython version, despite all the optimization, is a few percent *slower* than\n",
    "the result of the simple Numba decorator!  I should emphasize here that I have\n",
    "years of experience with Cython, and in this function I've used every Cython\n",
    "optimization there is\n",
    "(if any Cython super-experts are out there and would like to correct me\n",
    "on that, please let me know in the blog comment thread!)  By comparison, the Numba\n",
    "version is a simple, unadorned wrapper around plainly-written Python code."
   ]
  },
  {
   "cell_type": "markdown",
   "metadata": {},
   "source": [
    "## Scipy Pairwise Distances"
   ]
  },
  {
   "cell_type": "markdown",
   "metadata": {},
   "source": [
    "Because pairwise distances are such a commonly used application in scientific\n",
    "computing, both Scipy and scikit-learn have optimized routines to compute them.\n",
    "The Scipy version is a Python wrapper of C code, and can be called as follows:"
   ]
  },
  {
   "cell_type": "code",
   "execution_count": null,
   "metadata": {
    "collapsed": false
   },
   "outputs": [],
   "source": [
    "from scipy.spatial.distance import cdist\n",
    "X = np.random.randn(10000, 3).astype('float32')\n",
    "%timeit cdist(X, X)"
   ]
  },
  {
   "cell_type": "markdown",
   "metadata": {},
   "source": [
    "``cdist`` is about 50% slower than Numba."
   ]
  },
  {
   "cell_type": "markdown",
   "metadata": {},
   "source": [
    "## Scikit-learn Pairwise Distances"
   ]
  },
  {
   "cell_type": "markdown",
   "metadata": {},
   "source": [
    "Scikit-learn contains the ``euclidean_distances`` function, works on sparse\n",
    "matrices as well as numpy arrays, and is implemented in Cython:"
   ]
  },
  {
   "cell_type": "code",
   "execution_count": 39,
   "metadata": {
    "collapsed": false
   },
   "outputs": [],
   "source": [
    "from sklearn.metrics import euclidean_distances\n",
    "X = np.random.randn(50000, 3)"
   ]
  },
  {
   "cell_type": "code",
   "execution_count": 40,
   "metadata": {
    "collapsed": false,
    "scrolled": true
   },
   "outputs": [
    {
     "name": "stdout",
     "output_type": "stream",
     "text": [
      "Wall time: 27.3 s\n"
     ]
    }
   ],
   "source": [
    "%time result_sk = euclidean_distances(X)"
   ]
  },
  {
   "cell_type": "code",
   "execution_count": null,
   "metadata": {
    "collapsed": false
   },
   "outputs": [],
   "source": [
    "%time result_cy = pairwise_cython(X)"
   ]
  },
  {
   "cell_type": "code",
   "execution_count": null,
   "metadata": {
    "collapsed": false
   },
   "outputs": [],
   "source": [
    "%time result_nb = pairwise_numbapro(X)"
   ]
  },
  {
   "cell_type": "code",
   "execution_count": null,
   "metadata": {
    "collapsed": false
   },
   "outputs": [],
   "source": []
  },
  {
   "cell_type": "markdown",
   "metadata": {},
   "source": [
    "``euclidean_distances`` is several times slower than the Numba pairwise function\n",
    "on dense arrays."
   ]
  },
  {
   "cell_type": "code",
   "execution_count": null,
   "metadata": {
    "collapsed": false
   },
   "outputs": [],
   "source": []
  },
  {
   "cell_type": "markdown",
   "metadata": {},
   "source": [
    "## Comparing the Results"
   ]
  },
  {
   "cell_type": "markdown",
   "metadata": {},
   "source": [
    "Out of all the above pairwise distance methods, unadorned Numba is the clear winner,\n",
    "with highly-optimized Cython coming in a close second.  Both beat out the other\n",
    "options by a large amount.\n",
    "\n",
    "As a summary of the results, we'll create a bar-chart to visualize the timings:\n",
    "\n",
    "*Edit: I changed the \"fortran\" label to \"fortran/f2py\" to make clear that this\n",
    "is not raw Fortran.*"
   ]
  },
  {
   "cell_type": "code",
   "execution_count": null,
   "metadata": {
    "collapsed": false
   },
   "outputs": [],
   "source": [
    "%pylab inline"
   ]
  },
  {
   "cell_type": "code",
   "execution_count": null,
   "metadata": {
    "collapsed": false
   },
   "outputs": [],
   "source": [
    "labels = ['python\\nloop', 'numpy\\nbroadc.', 'sklearn', 'fortran/\\nf2py', 'scipy', 'cython', 'numba']\n",
    "timings = [13.4, 0.111, 0.0356, 0.0167, 0.0129, 0.00987, 0.00912]\n",
    "x = np.arange(len(labels))\n",
    "\n",
    "ax = plt.axes(xticks=x, yscale='log')\n",
    "ax.bar(x - 0.3, timings, width=0.6, alpha=0.4, bottom=1E-6)\n",
    "ax.grid()\n",
    "ax.set_xlim(-0.5, len(labels) - 0.5)\n",
    "ax.set_ylim(1E-3, 1E2)\n",
    "ax.xaxis.set_major_formatter(plt.FuncFormatter(lambda i, loc: labels[int(i)]))\n",
    "ax.set_ylabel('time (s)')\n",
    "ax.set_title(\"Pairwise Distance Timings\")"
   ]
  },
  {
   "cell_type": "markdown",
   "metadata": {},
   "source": [
    "Note that this is log-scaled, so the vertical space between two\n",
    "grid lines indicates a factor of 10 difference in computation time!\n",
    "\n",
    "When I compared Cython and Numba last August, I found that Cython was about\n",
    "30% faster than Numba.  Since then, Numba has had a few more releases, and both\n",
    "the interface and the performance has improved.  On\n",
    "top of being much easier to use (i.e. automatic type inference by ``autojit``)\n",
    "it's now about 50% faster, and is even a few percent faster than the Cython option.\n",
    "\n",
    "And though I've seen similar things for months, I'm still incredibly impressed\n",
    "by the results enabled by Numba: *a single function decorator results in a\n",
    "1300x speedup of simple Python code.*\n",
    "I'm becoming more and more convinced that Numba is\n",
    "the future of fast scientific computing in Python."
   ]
  },
  {
   "cell_type": "markdown",
   "metadata": {},
   "source": [
    "*This post was written entirely as an IPython notebook.* \n",
    "*The full notebook can be downloaded* \n",
    "[*here*](http://jakevdp.github.io/downloads/notebooks/NumbaCython.ipynb), \n",
    "*or viewed statically on* \n",
    "[*nbviewer*](http://nbviewer.ipython.org/url/jakevdp.github.io/downloads/notebooks/NumbaCython.ipynb)"
   ]
  }
 ],
 "metadata": {
  "kernelspec": {
   "display_name": "Python 2",
   "language": "python",
   "name": "python2"
  },
  "language_info": {
   "codemirror_mode": {
    "name": "ipython",
    "version": 2
   },
   "file_extension": ".py",
   "mimetype": "text/x-python",
   "name": "python",
   "nbconvert_exporter": "python",
   "pygments_lexer": "ipython2",
   "version": "2.7.11"
  }
 },
 "nbformat": 4,
 "nbformat_minor": 0
}
